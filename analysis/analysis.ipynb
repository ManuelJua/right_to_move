{
 "cells": [
  {
   "cell_type": "code",
   "execution_count": null,
   "metadata": {},
   "outputs": [],
   "source": [
    "import pandas as pd\n",
    "import datetime\n",
    "import seaborn as sns\n",
    "import matplotlib.pyplot as plt\n",
    "import numpy as np\n",
    "import os\n",
    "\n",
    "#Gets the path of current directory\n",
    "dir=os.path.realpath('.')\n",
    "#Lists files in current directory, excluding child directories\n",
    "list_files=list(os.walk(dir))[0][2]\n",
    "#Selects final_data csv file name\n",
    "final_data_file_name=[file for file in list_files if 'final_data' in file][0]\n",
    "if len(final_data_file_name)==0:\n",
    "    print('There is not final data file')\n",
    "else:\n",
    "    #Generates dataframe from file\n",
    "    df=pd.read_csv(final_data_file_name)"
   ]
  },
  {
   "attachments": {},
   "cell_type": "markdown",
   "metadata": {},
   "source": [
    "Calculation days on market for each property"
   ]
  },
  {
   "cell_type": "code",
   "execution_count": null,
   "metadata": {},
   "outputs": [],
   "source": [
    "start_date=datetime.date(2022,9,30)\n",
    "finish_date=datetime.date.today()\n",
    "delta=datetime.timedelta(days=1)\n",
    "\n",
    "#creates the file names to date\n",
    "def get_names(start_date): \n",
    "    file_names=[]\n",
    "    while start_date<=finish_date: \n",
    "        file_names.append('clean_{}.csv'.format(start_date))\n",
    "        start_date+=delta\n",
    "    return file_names\n",
    "\n",
    "#get the files if they exist\n",
    "def get_files(file_names):\n",
    "    frames=[]\n",
    "    for file_name in file_names:\n",
    "        try:\n",
    "            #'right_to_move_files' is the directory with all the files\n",
    "            df=pd.read_csv('clean_right_to_move_files/'+file_name) #right_to_move_files is the directory with all the files\n",
    "            frames.append(df)\n",
    "        except:\n",
    "            print(\"File {} not found\".format(file_name))\n",
    "            continue\n",
    "\n",
    "    return frames\n",
    "#Function to drop duplicates within each dataframe/day\n",
    "def drop_dupl(frames):\n",
    "    drop_duplicates_frames=[frame.drop_duplicates(subset=['description'])for frame in frames]\n",
    "\n",
    "    return drop_duplicates_frames\n",
    "\n",
    "#Time to use the previous built functions\n",
    "#Gets the file names\n",
    "frame_names=get_names(start_date)\n",
    "#Opens the files if they exist\n",
    "frames=get_files(frame_names)\n",
    "#Drops duplicates within each data frame\n",
    "frs=drop_dupl(frames)\n",
    "\n",
    "#Counts the number of time each url appears in the concatenated dataframe\n",
    "#to find out how many days each property has been in the market\n",
    "df_days_on_market=(\n",
    "    #Concateantes all the dataframes\n",
    "    pd.concat(frs,ignore_index=True)\n",
    "    ['description']\n",
    "    .value_counts()\n",
    "    .reset_index()\n",
    ")\n",
    "#Merges this data with the original property dataframe matching each url and renames variable 'count'\n",
    "df=pd.merge(df,df_days_on_market,on='description').rename(columns={'count':'days_on_market'})\n"
   ]
  },
  {
   "attachments": {},
   "cell_type": "markdown",
   "metadata": {},
   "source": [
    "Proportion of null values for each column"
   ]
  },
  {
   "cell_type": "code",
   "execution_count": null,
   "metadata": {},
   "outputs": [],
   "source": [
    "print('df.shape:',df.shape)\n",
    "round(\n",
    "(df.isna().sum()/df.shape[0])\n",
    ".sort_values(ascending=False)\n",
    ",2\n",
    ")"
   ]
  },
  {
   "attachments": {},
   "cell_type": "markdown",
   "metadata": {},
   "source": [
    "Number of properties published by date"
   ]
  },
  {
   "cell_type": "code",
   "execution_count": null,
   "metadata": {},
   "outputs": [],
   "source": [
    "prop_per_date=df['date'].value_counts().sort_index()[1:]\n",
    "week=['Mon','Tue','Wed','Thu','Fri','Sat','Sun']\n",
    "\n",
    "#This eliminates some outliers due to periods when there was no data extraction\n",
    "prop_per_date=prop_per_date[prop_per_date<100]\n",
    "\n",
    "#Creates a dictionary with days of the week instead of dates\n",
    "change_index=(\n",
    "    #Dictionary comprehension to change dates to weekdays \n",
    "    {str(pd.to_datetime(date).date())\n",
    "    :str(week[pd.to_datetime(date).weekday()])+' '+str(pd.to_datetime(date).day)\n",
    " for date in prop_per_date.index}\n",
    ")\n",
    "#Define 'red' for weekend days and 'blue' for weekdays as colorbar\n",
    "bar_colors=['r' if ('Sat' in day or 'Sun' in day) \n",
    "else 'b' for day in change_index.values()]\n",
    "\n",
    "(\n",
    "prop_per_date\n",
    ".rename(index=change_index)\n",
    ".plot(kind='bar',figsize=(15,3),color=bar_colors)\n",
    ")\n",
    "plt.xticks(np.arange(0,400,20))\n",
    "plt.show()\n",
    "\n"
   ]
  },
  {
   "attachments": {},
   "cell_type": "markdown",
   "metadata": {},
   "source": [
    "Distribution by price"
   ]
  },
  {
   "cell_type": "code",
   "execution_count": null,
   "metadata": {},
   "outputs": [],
   "source": [
    "sns.histplot(data=df,x='price',fill=True,alpha=0.2,kde=True,bins=np.arange(0,5000,200))\n",
    "plt.xticks(np.arange(0,4000,500),rotation=90)\n",
    "plt.show()"
   ]
  },
  {
   "cell_type": "code",
   "execution_count": null,
   "metadata": {},
   "outputs": [],
   "source": [
    "df['price']=pd.to_numeric(df['price'],errors='coerce')"
   ]
  },
  {
   "cell_type": "code",
   "execution_count": null,
   "metadata": {},
   "outputs": [],
   "source": [
    "df.query(f'bedrooms==2 & bathrooms==1')[['price','date']].groupby('date').min().rolling(30).median().plot()\n",
    "plt.xticks(rotation=90)\n",
    "plt.show()"
   ]
  },
  {
   "attachments": {},
   "cell_type": "markdown",
   "metadata": {},
   "source": [
    "Agents market share by number of properties published"
   ]
  },
  {
   "cell_type": "code",
   "execution_count": null,
   "metadata": {},
   "outputs": [],
   "source": [
    "(\n",
    "    df['agent_name']\n",
    "    .value_counts(sort=True,ascending=False)\n",
    "    .head(20)\n",
    "    .plot(kind='bar')\n",
    ")"
   ]
  },
  {
   "attachments": {},
   "cell_type": "markdown",
   "metadata": {},
   "source": [
    "Distribution by number of bedrooms and bathrooms"
   ]
  },
  {
   "cell_type": "code",
   "execution_count": null,
   "metadata": {},
   "outputs": [],
   "source": [
    "fig,(ax_1,ax_2)=plt.subplots(1,2,figsize=(10,2))\n",
    "df_plot_bathrooms=df.query('bathrooms<=2 & bedrooms <=3')['bathrooms'].value_counts().sort_index()\n",
    "df_plot_bathrooms=df.query('bathrooms<=2 & bedrooms <=3')['bedrooms'].value_counts().sort_index()\n",
    "ax_1.bar(height=df_plot_bathrooms.values,\n",
    "        x=df_plot_bathrooms.index\n",
    "        )\n",
    "ax_1.set_xlabel('Number of bathrooms')\n",
    "ax_1.set_ylabel('Count')\n",
    "ax_1.set_xticks(list(range(1,4)))\n",
    "ax_1.set_yticks(list(range(0,\n",
    "                        df_plot_bathrooms.values.max(),\n",
    "                        500)))\n",
    "\n",
    "ax_2.bar(height=df['bedrooms'].value_counts().sort_index().values,\n",
    "        x=df['bedrooms'].value_counts().sort_index().index,\n",
    "        color='green'\n",
    "        )\n",
    "ax_2.set_xlabel('Number of bedrooms')\n",
    "ax_2.set_ylabel('Count')\n",
    "ax_2.set_xticks(list(range(1,9)))\n",
    "ax_2.set_yticks(list(range(0,\n",
    "                        df['bedrooms'].value_counts().sort_index().values.max(),\n",
    "                        500)))\n",
    "plt.show()"
   ]
  },
  {
   "attachments": {},
   "cell_type": "markdown",
   "metadata": {},
   "source": [
    "Distribution by property type"
   ]
  },
  {
   "cell_type": "code",
   "execution_count": null,
   "metadata": {},
   "outputs": [],
   "source": [
    "prop_type=df['property_type'].value_counts().sort_values(ascending=False)\n",
    "fig,ax=plt.subplots()\n",
    "ax.bar(height=prop_type.values,\n",
    "        x=prop_type.index\n",
    "        )\n",
    "ax.set_xlabel('property type')\n",
    "ax.set_ylabel('Count')\n",
    "ax.set_xticklabels(prop_type.index,rotation=90)\n",
    "plt.show()"
   ]
  },
  {
   "attachments": {},
   "cell_type": "markdown",
   "metadata": {},
   "source": [
    "Proportion of properties that are not flats"
   ]
  },
  {
   "cell_type": "code",
   "execution_count": null,
   "metadata": {},
   "outputs": [],
   "source": [
    "flats=(\n",
    "df[df['property_type']=='Flat']['property_type']\n",
    ".value_counts()\n",
    ".sum()/df.shape[0]\n",
    ")\n",
    "print('Percentaje of flats:',round(flats*100,1),'%')"
   ]
  },
  {
   "attachments": {},
   "cell_type": "markdown",
   "metadata": {},
   "source": [
    " Changing values 'Now' and 'Ask Agent' from let_available_date' column (Part of this should be in the cleaning section)"
   ]
  },
  {
   "cell_type": "code",
   "execution_count": null,
   "metadata": {},
   "outputs": [],
   "source": [
    "now_index=df[df['let_available_date']=='Now'].index\n",
    "df.loc[now_index,'let_available_date']=df.loc[now_index,'date']\n",
    "\n",
    "ask_agent_index=df[df['let_available_date']=='Ask agent'].index\n",
    "df.loc[ask_agent_index,'let_available_date']=pd.NA\n",
    "\n",
    "df['let_available_date']=pd.to_datetime(df['let_available_date'],\n",
    "                                        errors='coerce',\n",
    "                                        format='%d/%m/%Y').dt.date\n",
    "\n"
   ]
  },
  {
   "attachments": {},
   "cell_type": "markdown",
   "metadata": {},
   "source": [
    "Converting 'date' columns to datetime (This also should be in the cleaning section)"
   ]
  },
  {
   "cell_type": "code",
   "execution_count": null,
   "metadata": {},
   "outputs": [],
   "source": [
    "df['date']=df['date'].astype('datetime64[ns]').dt.date"
   ]
  },
  {
   "attachments": {},
   "cell_type": "markdown",
   "metadata": {},
   "source": [
    "Distribution of days properties last published in the market"
   ]
  },
  {
   "cell_type": "code",
   "execution_count": null,
   "metadata": {},
   "outputs": [],
   "source": [
    "df['days_on_market'].value_counts().sort_index().plot(kind='bar',figsize=(10,3),xticks=range(0,140,10))"
   ]
  },
  {
   "attachments": {},
   "cell_type": "markdown",
   "metadata": {},
   "source": [
    "Analysis acording if they have min tenancy period"
   ]
  },
  {
   "cell_type": "code",
   "execution_count": null,
   "metadata": {},
   "outputs": [],
   "source": [
    "df['min_tenancy'].value_counts().sort_values(ascending=False)"
   ]
  },
  {
   "attachments": {},
   "cell_type": "markdown",
   "metadata": {},
   "source": [
    "Short term or long term rent"
   ]
  },
  {
   "cell_type": "code",
   "execution_count": null,
   "metadata": {},
   "outputs": [],
   "source": [
    "df['let_type'].value_counts()"
   ]
  },
  {
   "attachments": {},
   "cell_type": "markdown",
   "metadata": {},
   "source": [
    "Furnished or unfurnished property"
   ]
  },
  {
   "cell_type": "code",
   "execution_count": null,
   "metadata": {},
   "outputs": [],
   "source": [
    "round(\n",
    "df['furnish_type'].value_counts()/df.shape[0]*100\n",
    ",2\n",
    ")"
   ]
  },
  {
   "attachments": {},
   "cell_type": "markdown",
   "metadata": {},
   "source": [
    "Bivariant analysis- Prices vs number of bedrooms"
   ]
  },
  {
   "cell_type": "code",
   "execution_count": null,
   "metadata": {},
   "outputs": [],
   "source": [
    "sns.histplot(data=df[(df['bedrooms']<3) & (df['bathrooms']==1)],\n",
    "            x='price',\n",
    "            hue='bedrooms',\n",
    "            palette=['red','green'],\n",
    "            fill=True,\n",
    "            alpha=0.5,\n",
    "            kde=True,\n",
    "            bins=30\n",
    "            )\n",
    "#Plot formatting\n",
    "plt.xlim(0,2500)\n",
    "plt.xticks(list(range(0,2500,200)))\n",
    "plt.title('Properties with 1 bathroom')\n",
    "plt.show()\n",
    "\n",
    "sns.histplot(data=df[(df['bedrooms']==2) & (df['bathrooms']==2)],\n",
    "            x='price',\n",
    "            hue='bedrooms',\n",
    "            fill=True,\n",
    "            palette=['red'],\n",
    "            alpha=0.5,\n",
    "            kde=True,\n",
    "            bins=30,\n",
    "            )\n",
    "plt.xlim(0,2500)\n",
    "plt.title('Properties with 2 bathrooms')\n",
    "plt.show()"
   ]
  },
  {
   "attachments": {},
   "cell_type": "markdown",
   "metadata": {},
   "source": [
    "Bivariant analysis- Prices vs number of bedrooms (outliers excluded)"
   ]
  },
  {
   "cell_type": "code",
   "execution_count": null,
   "metadata": {},
   "outputs": [],
   "source": [
    "room1_q1,room1_q3=df[(df['bedrooms']==1) & (df['bathrooms']==1)]['price'].quantile(q=[0.25,0.75])\n",
    "room2_q1,room2_q3=df[(df['bedrooms']==2) & (df['bathrooms']==1)]['price'].quantile(q=[0.25,0.75])\n",
    "\n",
    "room1_lim_inf=room1_q1-(room1_q3-room1_q1)*1.5\n",
    "room1_lim_sup=room1_q3+(room1_q3-room1_q1)*1.5\n",
    "\n",
    "room2_lim_inf=room2_q1-(room2_q3-room2_q1)*1.5\n",
    "room2_lim_sup=room2_q3+(room2_q3-room2_q1)*1.5\n",
    "\n",
    "data_1_room=df[(df['bedrooms']==1) &\n",
    "                (df['price']>room1_lim_inf) &\n",
    "               (df['price']<=1200) &\n",
    "                (df['bathrooms']==1)]\n",
    "\n",
    "data_2_room=df[(df['bedrooms']==2) &\n",
    "                (df['price']>room2_lim_inf) &\n",
    "                (df['price']<room2_lim_sup) &\n",
    "                (df['bathrooms']==1)]\n",
    "\n",
    "sns.histplot(data=data_1_room,\n",
    "            x='price',\n",
    "            fill=True,\n",
    "            alpha=0.5,\n",
    "            kde=True,\n",
    "            bins=np.arange(400,2000,50),\n",
    "            #stat='probability'\n",
    "            )\n",
    "\n",
    "sns.histplot(data=data_2_room,\n",
    "            x='price',\n",
    "            fill=True,\n",
    "            alpha=0.5,\n",
    "            kde=True,\n",
    "            bins=np.arange(400,2000,50),\n",
    "            #stat='probability'\n",
    "            )\n",
    "\n",
    "plt.legend(['1 bedroom','2 bedrooms'])\n",
    "plt.title('Price distribution for properties with one bathroom. Outliers excluded')\n",
    "plt.show()\n"
   ]
  },
  {
   "cell_type": "code",
   "execution_count": null,
   "metadata": {},
   "outputs": [],
   "source": [
    "sns.catplot(data=df.query('bathrooms==1 &\\\n",
    "                        bedrooms<=2 &\\\n",
    "                        furnish_type in [\"Furnished\", \"Unfurnished\"]'),\n",
    "            y='price',x='furnish_type',col='bedrooms',kind='box')\n",
    "\n",
    "\n"
   ]
  },
  {
   "attachments": {},
   "cell_type": "markdown",
   "metadata": {},
   "source": [
    "Normal disribution fit for properties with one bathroom and one bedroom"
   ]
  },
  {
   "cell_type": "code",
   "execution_count": null,
   "metadata": {},
   "outputs": [],
   "source": [
    "#property prices for 1 bedroom flat adjust to a norrmal distribution for flats below 1200 pcm.\n",
    "#There is the need to find out if properties above 1200pcm are part of this population or they \n",
    "#are part of a different one.\n",
    "sns.kdeplot(data=data_1_room,\n",
    "            x='price',\n",
    "            fill=True,\n",
    "            alpha=0.5,\n",
    "            common_norm=True,\n",
    "            bw_adjust=0.6\n",
    "            )\n",
    "\n",
    "mu,std=norm.fit(data_1_room['price'])\n",
    "\n",
    "x=np.linspace(400,2500)\n",
    "normal_dist=norm.pdf(x,mu,std)\n",
    "plt.plot(x,normal_dist,'r',linewidth=2,linestyle='dashed')\n",
    "plt.show()\n"
   ]
  },
  {
   "attachments": {},
   "cell_type": "markdown",
   "metadata": {},
   "source": [
    "Normal disribution fit for properties with one bathroom and two bedrooms"
   ]
  },
  {
   "cell_type": "code",
   "execution_count": null,
   "metadata": {},
   "outputs": [],
   "source": [
    "sns.kdeplot(data=data_2_room,\n",
    "            x='price',\n",
    "            fill=True,\n",
    "            alpha=0.5,\n",
    "            common_norm=True,\n",
    "            bw_adjust=1\n",
    "            )\n",
    "\n",
    "mu,std=norm.fit(data_2_room['price'])\n",
    "\n",
    "x=np.linspace(400,2500)\n",
    "normal_dist=norm.pdf(x,mu,std)\n",
    "plt.plot(x,normal_dist,'r',linewidth=2,linestyle='dashed')\n",
    "plt.show()"
   ]
  },
  {
   "attachments": {},
   "cell_type": "markdown",
   "metadata": {},
   "source": [
    "Price distribution for each one of the 10 main agents"
   ]
  },
  {
   "cell_type": "code",
   "execution_count": null,
   "metadata": {},
   "outputs": [],
   "source": [
    "main_agents=(df['agent_name']\n",
    "                    .value_counts(sort=True,ascending=False)\n",
    "                    .head(10)\n",
    "                    )\n",
    "main_agents_index=main_agents.index.tolist()\n",
    "                    \n",
    "df_main_agents=df[df['agent_name'].isin(main_agents_index)]\n",
    "\n",
    "sns.boxplot(data=df_main_agents.query('bedrooms<3'),\n",
    "                x='agent_name',\n",
    "                y='price',\n",
    "                hue='bedrooms')\n",
    "#sns.stripplot(data=df_main_agents.query('bedrooms<3'),\n",
    "#                x='agent_name',\n",
    "#                y='price',\n",
    "#                hue='bedrooms',\n",
    "#                dodge=True)\n",
    "\n",
    "plt.xticks(rotation=90)\n",
    "plt.show()"
   ]
  },
  {
   "attachments": {},
   "cell_type": "markdown",
   "metadata": {},
   "source": [
    "Price distribution by furnish type, number of bathrooms and number of bedrooms"
   ]
  },
  {
   "cell_type": "code",
   "execution_count": null,
   "metadata": {},
   "outputs": [],
   "source": [
    "classification=df[(df['bedrooms']<=2) &\n",
    "                (df['bathrooms']<=2) &\n",
    "            (df['furnish_type'].isin(['Furnished','Unfurnished']))\n",
    "]\n",
    "round(\n",
    "classification.groupby(['bathrooms','bedrooms','furnish_type'])['price']\n",
    ".agg(['median','mean','std','count'])\n",
    ",0\n",
    ")\n",
    "sns.displot(data=classification,\n",
    "            x=\"price\",\n",
    "            col=\"bedrooms\",\n",
    "            row=\"bathrooms\",\n",
    "            hue=\"furnish_type\",\n",
    "            height=5,\n",
    "            aspect=1.5\n",
    "            )"
   ]
  },
  {
   "attachments": {},
   "cell_type": "markdown",
   "metadata": {},
   "source": [
    "Analysis days_on_market vs price vs number of bedrooms"
   ]
  },
  {
   "cell_type": "code",
   "execution_count": null,
   "metadata": {},
   "outputs": [],
   "source": [
    "\n",
    "#for i in range(1,5):\n",
    "#    plt.figure(figsize=(7,1))\n",
    "#    plt.ylim(0,60)\n",
    "#    (\n",
    "#    df[df['bedrooms']==i]['days_on_market']\n",
    "#    .value_counts()\n",
    "#    .sort_index()\n",
    "#    .plot(kind='bar')\n",
    "#    )\n",
    "#    \n",
    "#    plt.title('days on the market - {} bedrooms'.format(i))\n",
    "#    plt.show()\n",
    "    \n",
    "data=df.query('bedrooms<=5')\n",
    "plt.figure(figsize=(5,5))\n",
    "sns.boxplot(data=data,y='days_on_market',x='bedrooms')\n",
    "sns.stripplot(data=data,y='days_on_market',x='bedrooms')\n",
    "plt.show()"
   ]
  },
  {
   "attachments": {},
   "cell_type": "markdown",
   "metadata": {},
   "source": [
    "Analysis EPC vs price vs number of bedrooms"
   ]
  },
  {
   "cell_type": "code",
   "execution_count": null,
   "metadata": {},
   "outputs": [],
   "source": [
    "EPC=(\n",
    "df[\n",
    "(df['EPC_rating'].isin(['A','B','C','D','E','F','G']))\n",
    "& \n",
    "(df['bedrooms']<=4)\n",
    "]\n",
    "[['EPC_rating','price','bedrooms']]\n",
    ".sort_index()\n",
    ")\n",
    "\n",
    "\n",
    "#there is no influence of the EPC in the price of the properties\n",
    "sns.stripplot(data=EPC,y='price',x='EPC_rating',hue='bedrooms',dodge=True,alpha=0.25,order=['A','B','C','D','E','F','G'])\n",
    "sns.boxplot(data=EPC,y='price',x='EPC_rating',hue='bedrooms',order=['A','B','C','D','E','F','G'])\n"
   ]
  },
  {
   "cell_type": "code",
   "execution_count": null,
   "metadata": {},
   "outputs": [],
   "source": [
    "council_tax=(\n",
    "df[(df['bathrooms']==1) & (df['bedrooms']<4) ][['council_tax_band','price','bedrooms']]\n",
    ".sort_values('council_tax_band')\n",
    ")\n",
    "\n",
    "\n",
    "#there is no influence of the EPC in the price of the properties\n",
    "sns.stripplot(data=council_tax,y='price',x='council_tax_band',color='red',alpha=0.5,hue='bedrooms',dodge=True)\n",
    "sns.boxplot(data=council_tax,y='price',x='council_tax_band',hue='bedrooms')\n",
    "\n",
    "plt.show()\n"
   ]
  },
  {
   "cell_type": "code",
   "execution_count": null,
   "metadata": {},
   "outputs": [],
   "source": [
    "data=df[\n",
    "(df['bathrooms']==1)\n",
    "& \n",
    "(df['bedrooms']==1)\n",
    "]\n",
    "round(\n",
    "    data.groupby(['bathrooms','bedrooms','postcode_district','council_tax_band','furnish_type'])['price']\n",
    "    .agg(['median','mean','std','count'])\n",
    "    .sort_values('count',ascending=False)\n",
    "    ,0\n",
    ")\n"
   ]
  },
  {
   "cell_type": "code",
   "execution_count": null,
   "metadata": {},
   "outputs": [],
   "source": [
    "data=df[\n",
    "(df['bathrooms']==1)\n",
    "& \n",
    "(df['bedrooms']==1)\n",
    "&\n",
    "(df['postcode_district']=='EH{}'.format(11))\n",
    "# &\n",
    "# (df['council_tax_band']=='B')\n",
    "&\n",
    "(df['furnish_type']=='Furnished')\n",
    "\n",
    "]\n",
    "sns.histplot(data=data,x='price',bins=np.arange(700,1300,25))\n"
   ]
  },
  {
   "cell_type": "code",
   "execution_count": null,
   "metadata": {},
   "outputs": [],
   "source": [
    "(df.groupby('postcode_district')\n",
    "    .count()\n",
    "    ['url']\n",
    "    .sort_values(ascending=False)\n",
    "    .plot(kind='bar',figsize=(5,2))\n",
    ")"
   ]
  },
  {
   "cell_type": "code",
   "execution_count": null,
   "metadata": {},
   "outputs": [],
   "source": [
    "#Trying to find out if there is a time pattern in property\n",
    "# publications based on postcode district\n",
    "for i in range(1,13): \n",
    "    (df.groupby(['postcode_district','date'])\n",
    "    .count()\n",
    "    ['url']\n",
    "    .reset_index()\n",
    "    .rename(columns={'url':'num_properties'})\n",
    "    .query('postcode_district==\"EH{}\"'.format(i))\n",
    "    .set_index('date')\n",
    "    [1:]\n",
    "    .plot(kind='bar',figsize=(12,3),title='EH{}'.format(i))\n",
    "    )"
   ]
  }
 ],
 "metadata": {
  "kernelspec": {
   "display_name": "pandas_venv",
   "language": "python",
   "name": "python3"
  },
  "language_info": {
   "codemirror_mode": {
    "name": "ipython",
    "version": 3
   },
   "file_extension": ".py",
   "mimetype": "text/x-python",
   "name": "python",
   "nbconvert_exporter": "python",
   "pygments_lexer": "ipython3",
   "version": "3.8.10"
  },
  "orig_nbformat": 4,
  "vscode": {
   "interpreter": {
    "hash": "d59d5d2787f04eabb2243b1e4f677b5b823e2c5c62edbe07a84d1a1a1fada4f7"
   }
  }
 },
 "nbformat": 4,
 "nbformat_minor": 2
}
