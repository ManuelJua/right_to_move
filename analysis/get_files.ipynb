{
 "cells": [
  {
   "cell_type": "code",
   "execution_count": 52,
   "metadata": {},
   "outputs": [],
   "source": [
    "import pandas as pd\n",
    "import datetime\n",
    "import boto3\n",
    "import io\n",
    "import os"
   ]
  },
  {
   "cell_type": "code",
   "execution_count": 59,
   "metadata": {},
   "outputs": [],
   "source": [
    "dir=os.path.realpath('right_to_move_files')\n",
    "#Finds all file names in right_to_move_files\n",
    "right_to_move_files=pd.Series(list(os.walk(dir))[0][2])\n",
    "#Searches for the lastest date in the directory righ_to_move_files\n",
    "last_file_date=right_to_move_files.sort_values().str.findall('\\d\\d\\d\\d-\\d\\d-\\d\\d').iloc[-1][0]\n",
    "\n",
    "#Adds one more day to the last file date in order to start downloading the next files from s3\n",
    "next_start_date=str(pd.to_datetime(last_file_date).date()+datetime.timedelta(days=1))\n",
    "\n",
    "#Creates a list of the file names to download using a list comprehension and pd.date_range\n",
    "file_names_to_download=[\n",
    "                        f'right_to_move_files/right_to_move-{date.date()}.csv' \n",
    "                        for date in pd.date_range(next_start_date,datetime.date.today())\n",
    "                        ]"
   ]
  },
  {
   "cell_type": "code",
   "execution_count": null,
   "metadata": {},
   "outputs": [],
   "source": [
    "s3=boto3.client('s3')\n",
    "\n",
    "response = s3.list_objects_v2(\n",
    "Bucket='rtm-edinburgh-scraper',\n",
    "Prefix='right_to_move_files'\n",
    ")\n",
    "objects_name=[file['Key'] for file in response['Contents'] ]\n",
    "for obj in objects_name:\n",
    "    if obj in file_names_to_download:\n",
    "        file=s3.get_object( Bucket='rtm-edinburgh-scraper',Key=obj)\n",
    "        file_content=file['Body'].read()\n",
    "        df=pd.read_csv(io.BytesIO(file_content))\n",
    "        df.to_csv(obj,index=False)\n",
    "        print(obj)"
   ]
  }
 ],
 "metadata": {
  "kernelspec": {
   "display_name": "venv",
   "language": "python",
   "name": "python3"
  },
  "language_info": {
   "codemirror_mode": {
    "name": "ipython",
    "version": 3
   },
   "file_extension": ".py",
   "mimetype": "text/x-python",
   "name": "python",
   "nbconvert_exporter": "python",
   "pygments_lexer": "ipython3",
   "version": "3.8.10"
  }
 },
 "nbformat": 4,
 "nbformat_minor": 2
}
